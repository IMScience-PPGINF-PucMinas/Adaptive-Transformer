{
 "cells": [
  {
   "cell_type": "code",
   "execution_count": 1,
   "metadata": {},
   "outputs": [],
   "source": [
    "import os\n",
    "import torch\n",
    "from torch.utils.data import DataLoader\n",
    "import argparse\n",
    "from tqdm import tqdm\n",
    "import random\n",
    "import numpy as np\n",
    "import subprocess\n",
    "from collections import defaultdict\n",
    "\n",
    "from IPython.core.display import HTML\n",
    "from src.translator import Translator\n",
    "from src.rtransformer.recursive_caption_dataset_test import \\\n",
    "    caption_collate, single_sentence_collate, prepare_batch_inputs\n",
    "from src.rtransformer.recursive_caption_dataset_test import RecursiveCaptionDataset as RCDataset\n",
    "from src.utils import load_json, merge_dicts, save_json"
   ]
  },
  {
   "cell_type": "markdown",
   "metadata": {},
   "source": [
    "#Videos para Teste\n",
    "#\"v_bXdq2zI1Ms0\"\n",
    "#\"v_FsS_NCZEfaI\"\n",
    "#\"v_a1WhnMcTbrY\"\n",
    "#\"v_HWV_ccmZVPA\"\n",
    "#\"v_lVu-4SKcb4c\"\n",
    "#\"v_JTrwGfPJNzU\"\n",
    "#\"v_gOniW-yEZ0k\"\n",
    "#\"v_yACg55C3IlM\"\n",
    "#\"v_E9R1H8xRIW8\"\n",
    "#\"v_ng14GLT_hHQ\"\n",
    "#\"v_wPYr19iFxhw\"\n",
    "#\"v_mHVmDOxtVt0\"\n",
    "#\"v_R7DhZaY3A08\"\n",
    "#\"v_q2KR3lzTrq4\"\n",
    "#\"v_b7B0NRizzYo\"\n",
    "#\"v_plhiqYw0P_g\"\n",
    "#\"v_57buK1yvKPk\"\n",
    "#\"v_ZVIi4lPU6h0\"\n",
    "#\"v_l3EBfLkfAX8\"\n",
    "#\"v_zYQ-WdosIwI\"\n",
    "#\"v_7NG6UrY2Foo\"\n",
    "#\"v_AC9mml3mqps\"\n",
    "#\"v_qHRCGBIiNFg\""
   ]
  },
  {
   "cell_type": "code",
   "execution_count": 2,
   "metadata": {},
   "outputs": [
    {
     "data": {
      "text/html": [
       "<iframe id=\"ytplayer\" type=\"text/html\" width=\"500\" height=300\"     src=\"https://www.youtube.com/embed/gOniW-yEZ0k\" frameborder=\"2\"/>"
      ],
      "text/plain": [
       "<IPython.core.display.HTML object>"
      ]
     },
     "execution_count": 2,
     "metadata": {},
     "output_type": "execute_result"
    }
   ],
   "source": [
    "sel_video = \"v_gOniW-yEZ0k\"\n",
    "\n",
    "HTML('<iframe id=\"ytplayer\" type=\"text/html\" width=\"500\" height=300\" \\\n",
    "    src=\"https://www.youtube.com/embed/'+sel_video.split('_')[1]+'\" frameborder=\"2\"/>')"
   ]
  },
  {
   "cell_type": "code",
   "execution_count": 3,
   "metadata": {},
   "outputs": [
    {
     "data": {
      "text/plain": [
       "0"
      ]
     },
     "execution_count": 3,
     "metadata": {},
     "output_type": "execute_result"
    }
   ],
   "source": [
    "eval_rep_cmd = [\"python\", \"src/translate_test.py\", \"--res_dir=results/anet_24_05/\", \"--eval_splits=test\",\n",
    "                \"--min_sen_len=6\", \"--max_sen_len=32\", \"--batch_size=100\", \"--sel_video=\"+sel_video]\n",
    "subprocess.call(eval_rep_cmd)\n"
   ]
  },
  {
   "cell_type": "code",
   "execution_count": 4,
   "metadata": {},
   "outputs": [
    {
     "name": "stdout",
     "output_type": "stream",
     "text": [
      "\n",
      "GT Sentence: A woman is seen kneeling down next to a man. Another person is seen kneeling nearby. The man pans closely around the man.\n",
      "\n",
      "Sentence: a man is sitting on a chair with another man sitting on the ground. a man is sitting on a chair with a man 's help him. a man is shaving his legs with a man 's legs. \n",
      "\n"
     ]
    },
    {
     "data": {
      "text/plain": [
       "0"
      ]
     },
     "execution_count": 4,
     "metadata": {},
     "output_type": "execute_result"
    }
   ],
   "source": [
    "gt_sen_t = \"\"\n",
    "sen_t = \"\"\n",
    "raw_data = load_json(\"results/anet_24_05/greedy_pred_test.json\")\n",
    "for s in range(len(raw_data.get(\"results\").get(sel_video))):\n",
    "    gt_sen_t = gt_sen_t + str(raw_data.get(\"results\").get(sel_video)[s].get(\"gt_sentence\"))\n",
    "    sen_t = sen_t + str(raw_data.get(\"results\").get(sel_video)[s].get(\"sentence\").split(\" .\")[0] + \". \")\n",
    "        \n",
    "print(\"\\nGT Sentence: \" + gt_sen_t)\n",
    "print(\"\\nSentence: \" + sen_t + \"\\n\")\n",
    "os.system(\"rm results/anet_24_05/greedy_pred_test.json\")"
   ]
  },
  {
   "cell_type": "code",
   "execution_count": null,
   "metadata": {},
   "outputs": [],
   "source": []
  },
  {
   "cell_type": "code",
   "execution_count": null,
   "metadata": {},
   "outputs": [],
   "source": []
  }
 ],
 "metadata": {
  "kernelspec": {
   "display_name": "Python 2",
   "language": "python",
   "name": "python2"
  },
  "language_info": {
   "codemirror_mode": {
    "name": "ipython",
    "version": 2
   },
   "file_extension": ".py",
   "mimetype": "text/x-python",
   "name": "python",
   "nbconvert_exporter": "python",
   "pygments_lexer": "ipython2",
   "version": "2.7.12"
  }
 },
 "nbformat": 4,
 "nbformat_minor": 2
}
